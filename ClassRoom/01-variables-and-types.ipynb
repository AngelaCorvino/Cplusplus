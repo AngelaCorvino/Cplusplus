{
 "cells": [
  {
   "cell_type": "markdown",
   "metadata": {
    "slideshow": {
     "slide_type": "slide"
    }
   },
   "source": [
    "# Variables & Types"
   ]
  },
  {
   "cell_type": "markdown",
   "metadata": {
    "slideshow": {
     "slide_type": "slide"
    }
   },
   "source": [
    "## Variables must be declared\n",
    "\n",
    "- When declaring a variable, on must provide a type, and the variable will keep this type all life long.\n",
    "- For what concerns builtins types, do not expect the value to be initialized to some sort of *0* value. Until it is explicitly assigned some value, its state is *UNDEFINED*.\n",
    "- To be noticed : the semicolons as instructions separators, the slashes for comments."
   ]
  },
  {
   "cell_type": "code",
   "execution_count": 1,
   "metadata": {
    "slideshow": {
     "slide_type": "fragment"
    }
   },
   "outputs": [],
   "source": [
    "int answer ;    // undefined state\n",
    "double pi ;     // undefined state\n",
    "answer = 42  ;\n",
    "pi = 3.1416 ;"
   ]
  },
  {
   "cell_type": "markdown",
   "metadata": {
    "slideshow": {
     "slide_type": "subslide"
    }
   },
   "source": [
    "## Initial values are allowed and recommended\n",
    "\n",
    "- It is actually recommended to give an initial value to each variable, so that the variables are never let in undefined state.\n",
    "- To be noticed : the /* ... */ for multi-lines comments."
   ]
  },
  {
   "cell_type": "code",
   "execution_count": 2,
   "metadata": {
    "slideshow": {
     "slide_type": "fragment"
    }
   },
   "outputs": [
    {
     "data": {
      "text/plain": [
       "42"
      ]
     },
     "execution_count": 2,
     "metadata": {},
     "output_type": "execute_result"
    }
   ],
   "source": [
    "/*\n",
    "In C++, initialisation is logically different from assignment\n",
    "and may have slightly different behaviors in some specific situations. In python you only have a int type that can grow longer and longer\n",
    "*/\n",
    "int answer { 0 } ;      // This is an initialization\n",
    "double pi { 3.1416 } ;  // This is an initialization\n",
    "answer = 42 ;           // This is an assignment"
   ]
  },
  {
   "cell_type": "markdown",
   "metadata": {
    "slideshow": {
     "slide_type": "subslide"
    }
   },
   "source": [
    "## Thus types can be infered\n",
    "\n",
    "When there is an initial value, one can ask the compiler to infer that the type of the value is the same as the type of the initial value."
   ]
  },
  {
   "cell_type": "code",
   "execution_count": 4,
   "metadata": {
    "slideshow": {
     "slide_type": "fragment"
    }
   },
   "outputs": [],
   "source": [
    "auto answer { 42 } ; // `42` is an integer literal\n",
    "auto pi { 3.1416 } ; // `3.1416` is a double literal, because of the dot"
   ]
  },
  {
   "cell_type": "markdown",
   "metadata": {
    "slideshow": {
     "slide_type": "slide"
    }
   },
   "source": [
    "## Builtin numeric types have unspecified sizes\n",
    "\n",
    "- The size of numeric variable types in C++ depends on the implementation.\n",
    "- This favor performance, but this may impede the portability of the results."
    "In C++, a namespace is a collection of related names or identifiers (functions, class, variables)\n"
    "which helps to separate these identifiers from similar identifiers in other namespaces or the global namespace\n"
    "The identifiers of the C++ standard library are defined in a namespace called std.
   ]
  },
  {
   "cell_type": "markdown",
   "metadata": {
    "slideshow": {
     "slide_type": "subslide"
    }
   },
   "source": [
    "For example, the following rules are imposed on integer types by the C++ standards:\n",
    "* `short` : a width of at least 16 bits.\n",
    "* `int`   : a width of at least 16 bits.\n",
    "* `long`  : a width of at least 32 bits.\n",
    "* `sizeof(short)` <= `sizeof(int)` <= `sizeof(long)`"
   ]
  },
  {
   "cell_type": "markdown",
   "metadata": {
    "slideshow": {
     "slide_type": "subslide"
    }
   },
   "source": [
    "The rules on floating point types are not strict either:\n",
    "* `sizeof(float)` <= `sizeof(double)` <= `sizeof(long double)`\n",
    "* `float`  : typically 32 bits *(IEEE 754, 6-9 significant digits, typically 7)*.\n",
    "* `double` : typically 64 bits *(IEEE 754, 15-18 significant digits, typically 16)*.\n",
    "* `long double` : 80 to 128 bits *(18-36 significant digits)*."
   ]
  },
  {
   "cell_type": "code",
   "execution_count": 7,
   "metadata": {
    "slideshow": {
     "slide_type": "subslide"
    }
   },
   "outputs": [],
   "source": [
    "#include <iostream>\n",
    "#include <limits>"
   ]
  },
  {
   "cell_type": "code",
   "execution_count": 9,
   "metadata": {
    "slideshow": {
     "slide_type": "fragment"
    }
   },
   "outputs": [
    {
     "name": "stdout",
     "output_type": "stream",
     "text": [
      "      type\tbits\tmin\t\t\tmax\n",
      "0     short\t16\t-32768\t\t\t32767\n",
      "0     int\t32\t-2147483648\t\t2147483647\n",
      "0l    long\t64\t-9223372036854775808\t9223372036854775807\n",
      "0.f   float\t32\t1.17549e-38\t\t3.40282e+38\n",
      "0.    double\t64\t2.22507e-308\t\t1.79769e+308\n"
     ]
    }
   ],
   "source": [
    "std::cout\n",
    " << \"      type\\tbits\\tmin\\t\\t\\tmax\\n\"\n",
    " << \"0     short\\t\" << sizeof(short)*8 << \"\\t\"\n",
    " << std::numeric_limits<short>::min() << \"\\t\\t\\t\" << std::numeric_limits<short>::max() << '\\n'\n",
    " << \"0     int\\t\" << sizeof(int)*8 << \"\\t\"\n",
    " << std::numeric_limits<int>::min() << \"\\t\\t\" << std::numeric_limits<int>::max() << '\\n'\n",
    " << \"0l    long\\t\" << sizeof(long)*8 << \"\\t\"\n",
    " << std::numeric_limits<long>::min() << \"\\t\" << std::numeric_limits<long>::max() << '\\n'\n",
    " << \"0.f   float\\t\" << sizeof(float)*8 << \"\\t\"\n",
    " << std::numeric_limits<float>::min() << \"\\t\\t\" << std::numeric_limits<float>::max() << '\\n' \n",
    " << \"0.    double\\t\" << sizeof(double)*8 << \"\\t\"\n",
    " << std::numeric_limits<double>::min() << \"\\t\\t\" << std::numeric_limits<double>::max() << '\\n' ;"
   ]
  },
  {
   "cell_type": "markdown",
   "metadata": {
    "slideshow": {
     "slide_type": "slide"
    }
   },
   "source": [
    "## Initialization or assignment is copy\n",
    "\n",
    "- That is the so-called *value semantic*.\n",
    "- To be noticed : the includes, the using, the templates, std::, complex and cout."
   ]
  },
  {
   "cell_type": "code",
   "execution_count": 5,
   "metadata": {
    "slideshow": {
     "slide_type": "subslide"
    }
   },
   "outputs": [],
   "source": [
    "#include <iostream>\n",
    "#include <complex>"
   ]
  },
  {
   "cell_type": "code",
   "execution_count": 6,
   "metadata": {
    "slideshow": {
     "slide_type": "fragment"
    }
   },
   "outputs": [
    {
     "name": "stdout",
     "output_type": "stream",
     "text": [
      "(0,1) (1,1) (1,1)\n"
     ]
    }
   ],
   "source": [
    "std::complex<double> c1 { 1., 1. } ;\n",
    "std::complex<double> c2 { c1 } ;\n",
    "std::complex<double> c3 ;\n",
    "c3 = c1 ;\n",
    "c1.real(0.) ;\n",
    "std::cout << c1 << \" \" << c2<< \" \" << c3 << std::endl ; // you are printi with std::cout"
   ]
  },
  {
   "cell_type": "markdown",
   "metadata": {
    "slideshow": {
     "slide_type": "subslide"
    }
   },
   "source": [
    "One can alleviate the code with type aliases. The keyword `using` permits to define an alias for a type name. From the point of view of the compiler, it is **NOT** a new type, but an alternative name for the same original type."
   ]
  },
  {
   "cell_type": "code",
   "execution_count": 7,
   "metadata": {
    "slideshow": {
     "slide_type": "fragment"
    }
   },
   "outputs": [
    {
     "name": "stdout",
     "output_type": "stream",
     "text": [
      "(0,1) (1,1) (1,1)\n"
     ]
    }
   ],
   "source": [
    "using Complex = std::complex<double> ;\n",
    "Complex c1 { 1., 1. } ;\n",
    "Complex c2 { c1 } ;\n",
    "Complex c3 ;\n",
    "c3 = c1 ;\n",
    "c1.real(0.) ;\n",
    "std::cout << c1 << \" \" << c2<< \" \" << c3 << std::endl ;"
   ]
  },
  {
   "cell_type": "markdown",
   "metadata": {
    "slideshow": {
     "slide_type": "slide"
    }
   },
   "source": [
    "# Quizz\n",
    "\n",
    "What is the size of some object of type std::complex ?\n",
    "\n",
    "<!--\n",
    "Well, it depends... of the template parameter ! And even if we know the parameter, for example\n",
    "double, we are not 100% sure of its size. Yet the size of std::complex<double> is very\n",
    "probably 128 bits.\n",
    "-->"
   ]
  },
  {
   "cell_type": "markdown",
   "metadata": {
    "slideshow": {
     "slide_type": "slide"
    }
   },
   "source": [
    "# Take away\n",
    "\n",
    "- Variables can be seen as memory slots.\n",
    "- They must be declared, and have a fixed type.\n",
    "- When given an initial value, the type can be infered.\n",
    "- When one assigns a variable to another, the value is duplicated.\n",
    "- Default types, such as anything in C++, are designed for performance first.\n",
    "\n",
    "\n",
    "# Questions ?"
   ]
  },
  {
   "cell_type": "markdown",
   "metadata": {
    "slideshow": {
     "slide_type": "skip"
    }
   },
   "source": [
    "© *CNRS 2023*  \n",
    "*This document was created by David Chamont. It is available under the [License Creative Commons - Attribution - No commercial use - Shared under the conditions 4.0 International](http://creativecommons.org/licenses/by-nc-sa/4.0/)*"
   ]
  }
 ],
 "metadata": {
  "celltoolbar": "Diaporama",
  "kernelspec": {
   "display_name": "C++17",
   "language": "C++17",
   "name": "xcpp17"
  },
  "language_info": {
   "codemirror_mode": "text/x-c++src",
   "file_extension": ".cpp",
   "mimetype": "text/x-c++src",
   "name": "c++",
   "version": "17"
  }
 },
 "nbformat": 4,
 "nbformat_minor": 5
}
