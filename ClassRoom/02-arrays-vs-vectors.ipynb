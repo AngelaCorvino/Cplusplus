{
 "cells": [
  {
   "cell_type": "markdown",
   "metadata": {
    "slideshow": {
     "slide_type": "slide"
    }
   },
   "source": [
    "# Arrays vs Vectors"
   ]
  },
  {
   "cell_type": "markdown",
   "metadata": {
    "slideshow": {
     "slide_type": "slide"
    }
   },
   "source": [
    "## Fixed size containers: `std::array`\n",
    "\n",
    "- In C++ we have the possibility to create homogeneous arrays of fixed size and types. We access elements with the operator `[n]`, *where `n` counts from 0*. So an array of size `N` has elements `0`, `1`, `2`, `...`, `N-1`.\n",
    "- To be noticed : the include, the template parameter of type int (template arguments must be known at compilation time)."
   ]
  },
  {
   "cell_type": "code",
   "execution_count": 1,
   "metadata": {
    "slideshow": {
     "slide_type": "subslide"
    }
   },
   "outputs": [],
   "source": [
    "#include <iostream>\n",
    "#include <array>"
   ]
  },
  {
   "cell_type": "code",
   "execution_count": 2,
   "metadata": {
    "slideshow": {
     "slide_type": "fragment"
    }
   },
   "outputs": [
    {
     "name": "stdout",
     "output_type": "stream",
     "text": [
      "This quadri-vector has time component 4\n"
     ]
    }
   ],
   "source": [
    "std::array<double,4> qv1 { 1., 2., 3., 4. } ;\n",
    "std::cout << \"This quadri-vector has time component \" << qv1[3] << std::endl;"
   ]
  },
  {
   "cell_type": "code",
   "execution_count": 3,
   "metadata": {
    "slideshow": {
     "slide_type": "fragment"
    }
   },
   "outputs": [
    {
     "name": "stdout",
     "output_type": "stream",
     "text": [
      "This quadri-vector now has time component 0\n"
     ]
    }
   ],
   "source": [
    "qv1[3] = 0. ;\n",
    "std::cout << \"This quadri-vector now has time component \" << qv1[3] << std::endl;"
   ]
  },
  {
   "cell_type": "markdown",
   "metadata": {
    "slideshow": {
     "slide_type": "subslide"
    }
   },
   "source": [
    "### Array indexes\n",
    "\n",
    "As we saw, array indexes run from `0` to `N-1` for an array of size `N`. If you accidentally try to access a value outside of this range then the results are *undefined behavior* - you're program might crash, or worse it might silently just produce wrong answers. So this is something to be very careful of.\n",
    "\n",
    "Arrays also support an access method called `at` which will check that a valid data element is being accessed: `qv.at(3)` will access the third element, but will explicitly fail if the fourth element wasn't valid."
   ]
  },
  {
   "cell_type": "markdown",
   "metadata": {
    "slideshow": {
     "slide_type": "subslide"
    }
   },
   "source": [
    "### Value semantic\n",
    "\n",
    "When one initialize or assign a whole array to another, the values are duplicated. Modifying one of them will not affect the other."
   ]
  },
  {
   "cell_type": "code",
   "execution_count": 4,
   "metadata": {
    "slideshow": {
     "slide_type": "fragment"
    }
   },
   "outputs": [
    {
     "name": "stdout",
     "output_type": "stream",
     "text": [
      "0 2 3 0 \n",
      "1 2 3 0 \n"
     ]
    }
   ],
   "source": [
    "std::array<double,4> qv2 { qv1 } ;\n",
    "qv1[0] = 0 ;\n",
    "\n",
    "std::cout<<qv1[0]<<\" \"<<qv1[1]<<\" \"<<qv1[2]<<\" \"<<qv1[3]<<\" \"<<std::endl ;\n",
    "std::cout<<qv2[0]<<\" \"<<qv2[1]<<\" \"<<qv2[2]<<\" \"<<qv2[3]<<\" \"<<std::endl ;"
   ]
  },
  {
   "cell_type": "markdown",
   "metadata": {
    "slideshow": {
     "slide_type": "subslide"
    }
   },
   "source": [
    "### Looping on all elements"
   ]
  },
  {
   "cell_type": "code",
   "execution_count": 5,
   "metadata": {
    "slideshow": {
     "slide_type": "fragment"
    }
   },
   "outputs": [
    {
     "name": "stdout",
     "output_type": "stream",
     "text": [
      "0 2 3 0 \n"
     ]
    }
   ],
   "source": [
    "for ( auto value : qv1 ) {\n",
    "    std::cout << value << \" \" ;\n",
    "}\n",
    "std::cout << std::endl;"
   ]
  },
  {
   "cell_type": "code",
   "execution_count": 6,
   "metadata": {
    "slideshow": {
     "slide_type": "fragment"
    }
   },
   "outputs": [
    {
     "name": "stdout",
     "output_type": "stream",
     "text": [
      "0 2 3 0 \n"
     ]
    }
   ],
   "source": [
    "for ( std::size_t i{0} ; i<qv1.size() ; ++i ) {\n",
    "    std::cout << qv1[i] << \" \" ;\n",
    "}\n",
    "std::cout << std::endl;"
   ]
  },
  {
   "cell_type": "markdown",
   "metadata": {
    "slideshow": {
     "slide_type": "slide"
    }
   },
   "source": [
    "## Variable size containers: `std::vector`\n",
    "\n",
    "Arrays are great to use when the data size is known up-front. However, in many cases\n",
    "we might not know how large a container we need at the beginning. In this case\n",
    "C++ comes to our aid with a *variable sized container type* called a *vector*. One can use a vector in much the same way as an array:"
   ]
  },
  {
   "cell_type": "code",
   "execution_count": 8,
   "metadata": {
    "slideshow": {
     "slide_type": "subslide"
    }
   },
   "outputs": [],
   "source": [
    "#include <iostream>\n",
    "#include <vector>"
   ]
  },
  {
   "cell_type": "code",
   "execution_count": 20,
   "metadata": {
    "slideshow": {
     "slide_type": "fragment"
    }
   },
   "outputs": [],
   "source": [
    "std::vector<int> v { 2, 4, 6 };\n",
    "v.push_back(8);\n",
    "v.push_back(10);\n",
    "v[1] = 12;"
   ]
  },
  {
   "cell_type": "code",
   "execution_count": 12,
   "metadata": {
    "slideshow": {
     "slide_type": "fragment"
    }
   },
   "outputs": [
    {
     "name": "stdout",
     "output_type": "stream",
     "text": [
      "5 elements: 2 0 6 8 10 \n"
     ]
    }
   ],
   "source": [
    "std::cout << v.size() << \" elements: \";\n",
    "for ( auto value : v ) {\n",
    "    std::cout << value << \" \" ;\n",
    "}\n",
    "std::cout << std::endl;"
   ]
  },
  {
   "cell_type": "markdown",
   "metadata": {
    "slideshow": {
     "slide_type": "subslide"
    }
   },
   "source": [
    "This looks very like our array code above and one of the nice things about these C++\n",
    "*containers* is that they all are used in very similar ways!\n",
    "- Instead of including the `array` header, this time we use `vector`.\n",
    "- When we define our vector we don't need to give the size, as this is mutable.\n",
    "- Accessing the elements of a vector uses the same `[]` notation as arrays.\n",
    "- The size of the vector is returned by `size()`.\n",
    "- One can loop on all the elements."
   ]
  },
  {
   "cell_type": "markdown",
   "metadata": {
    "slideshow": {
     "slide_type": "subslide"
    }
   },
   "source": [
    "At runtime, if you know the final size of your vector, you can get better initialisation performance:\n",
    "- either directly create it at the rigth size, then access the elements with [],\n",
    "- or `reserve()` the relevant size and use `push_back()` as usual."
   ]
  },
  {
   "cell_type": "markdown",
   "metadata": {
    "slideshow": {
     "slide_type": "subslide"
    }
   },
   "source": [
    "To be noticed below: the initialisation use `()`, not `{}`."
   ]
  },
  {
   "cell_type": "code",
   "execution_count": 12,
   "metadata": {
    "slideshow": {
     "slide_type": "fragment"
    }
   },
   "outputs": [],
   "source": [
    "std::vector<int> v(5);\n",
    "v[0] = 2;\n",
    "v[1] = 4;\n",
    "v[2] = 6;\n",
    "v[3] = 8;\n",
    "v[4] = 10;"
   ]
  },
  {
   "cell_type": "code",
   "execution_count": 13,
   "metadata": {
    "slideshow": {
     "slide_type": "subslide"
    }
   },
   "outputs": [],
   "source": [
    "std::vector<int> v;\n",
    "v.reserve(5);\n",
    "for ( int i : { 2, 4, 6 } ) {\n",
    "    v.push_back(i);\n",
    "}\n",
    "v.push_back(8);\n",
    "v.push_back(10);"
   ]
  },
  {
   "cell_type": "markdown",
   "metadata": {
    "slideshow": {
     "slide_type": "slide"
    }
   },
   "source": [
    "## Algorithms\n",
    "\n",
    "- The standard library comes with a bunch of so-called *algorithms* which may be applied to the collections.\n",
    "- Those algorithms can process a subset of the collection : one must give an *iterator* to the first element to be processed, and an *iterator* pas the end."
   ]
  },
  {
   "cell_type": "code",
   "execution_count": 14,
   "metadata": {
    "slideshow": {
     "slide_type": "subslide"
    }
   },
   "outputs": [],
   "source": [
    "#include <algorithm>"
   ]
  },
  {
   "cell_type": "code",
   "execution_count": 30,
   "metadata": {
    "slideshow": {
     "slide_type": "fragment"
    }
   },
   "outputs": [
    {
     "name": "stdout",
     "output_type": "stream",
     "text": [
      "2 6 8 10 12 \n"
     ]
    }
   ],
   "source": [
    "for ( auto value : v ) { \n",
    "  std::cout << value << \" \" ;\n",
    "}\n",
    "std::cout << std::endl;"
   ]
  },
  {
   "cell_type": "code",
   "execution_count": 25,
   "metadata": {
    "slideshow": {
     "slide_type": "fragment"
    }
   },
   "outputs": [],
   "source": [
    "std::sort(v.begin(),v.begin()+3);"
   ]
  },
  {
   "cell_type": "code",
   "execution_count": 27,
   "metadata": {
    "slideshow": {
     "slide_type": "fragment"
    }
   },
   "outputs": [],
   "source": [
    "std::sort(v.begin()+1,v.end()-1);"
   ]
  },
  {
   "cell_type": "code",
   "execution_count": 29,
   "metadata": {
    "slideshow": {
     "slide_type": "fragment"
    }
   },
   "outputs": [],
   "source": [
    "std::sort(v.begin(),v.end());"
   ]
  },
  {
   "cell_type": "markdown",
   "metadata": {
    "slideshow": {
     "slide_type": "slide"
    }
   },
   "source": [
    "# Quizz\n",
    "\n",
    "What's the output ?"
   ]
  },
  {
   "cell_type": "code",
   "execution_count": null,
   "metadata": {
    "slideshow": {
     "slide_type": "fragment"
    }
   },
   "outputs": [],
   "source": [
    "std::vector<int> v ;\n",
    "std::vector<std::vector<int>> vv ;\n",
    "\n",
    "v.push_back(1) ;\n",
    "vv.push_back(v) ;\n",
    "v[0] = 0 ;\n",
    "v.push_back(2) ;\n",
    "vv.push_back(v) ;\n",
    "\n",
    "for ( auto v : vv ) {\n",
    "  for ( auto i : v ) {\n",
    "    std::cout<<i<<\" \" ;\n",
    "  }\n",
    "}\n",
    "std::cout<<std::endl ;"
   ]
  },
  {
   "cell_type": "markdown",
   "metadata": {
    "slideshow": {
     "slide_type": "slide"
    }
   },
   "source": [
    "# Take away\n",
    "\n",
    "- Assigning a whole collection to another will duplicate the values.\n",
    "- Use `std::array` when size is known at compilation time,\n",
    "- Else use `std::vector`, slower to fill, but fast to read.\n",
    "- Learn about the use of standard algorithms.\n",
    "\n",
    "\n",
    "# Questions ?"
   ]
  },
  {
   "cell_type": "markdown",
   "metadata": {
    "slideshow": {
     "slide_type": "skip"
    }
   },
   "source": [
    "© *CNRS 2023*  \n",
    "*This document was created by David Chamont. It is available under the [License Creative Commons - Attribution - No commercial use - Shared under the conditions 4.0 International](http://creativecommons.org/licenses/by-nc-sa/4.0/)*"
   ]
  }
 ],
 "metadata": {
  "celltoolbar": "Diaporama",
  "kernelspec": {
   "display_name": "C++17",
   "language": "C++17",
   "name": "xcpp17"
  },
  "language_info": {
   "codemirror_mode": "text/x-c++src",
   "file_extension": ".cpp",
   "mimetype": "text/x-c++src",
   "name": "c++",
   "version": "17"
  }
 },
 "nbformat": 4,
 "nbformat_minor": 5
}
