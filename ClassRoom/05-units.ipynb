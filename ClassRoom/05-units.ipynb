{
 "cells": [
  {
   "cell_type": "code",
   "execution_count": 21,
   "metadata": {
    "slideshow": {
     "slide_type": "skip"
    }
   },
   "outputs": [],
   "source": [
    "!rm -rf my_*"
   ]
  },
  {
   "cell_type": "markdown",
   "metadata": {
    "slideshow": {
     "slide_type": "slide"
    }
   },
   "source": [
    "# Compilation by parts"
   ]
  },
  {
   "cell_type": "markdown",
   "metadata": {
    "slideshow": {
     "slide_type": "slide"
    }
   },
   "source": [
    "## Split the example into multiple files\n",
    "\n",
    "- A real life application generally has a main file (`*.cpp`), containing the `int main()` function, and a pair of header file (`*.hh`) and body file (`*.cc`) for each function or logical set of functions.\n",
    "- The choice of the file names extensions is up to your group of developers.\n",
    "- So to avoid double inclusion by the preprocessor, or worse a cycle of inclusions, place *include guards*."
   ]
  },
  {
   "cell_type": "code",
   "execution_count": 22,
   "metadata": {
    "slideshow": {
     "slide_type": "fragment"
    }
   },
   "outputs": [
    {
     "name": "stdout",
     "output_type": "stream",
     "text": [
      "Writing my_polar_converter.hh\n"
     ]
    }
   ],
   "source": [
    "%%file my_polar_converter.hh\n",
    "\n",
    "#ifndef MY_POLAR_CONVERTER_HH\n",
    "#define MY_POLAR_CONVERTER_HH\n",
    "\n",
    "#include <tuple>\n",
    "\n",
    "std::tuple<double,double> polar_coordinates( double x, double y ) ;\n",
    "\n",
    "#endif // MY_POLAR_CONVERTER_HH"
   ]
  },
  {
   "cell_type": "code",
   "execution_count": 23,
   "metadata": {
    "slideshow": {
     "slide_type": "fragment"
    }
   },
   "outputs": [
    {
     "name": "stdout",
     "output_type": "stream",
     "text": [
      "Writing my_polar_converter.cc\n"
     ]
    }
   ],
   "source": [
    "%%file my_polar_converter.cc\n",
    "\n",
    "#include \"my_polar_converter.hh\"\n",
    "#include <cmath>\n",
    "\n",
    "std::tuple<double,double> polar_coordinates( double x, double y ) {\n",
    "  double norme = std::sqrt(x*x+y*y) ;\n",
    "  double angle = std::atan(y/x) ;\n",
    "  return { norme, angle } ;\n",
    "}"
   ]
  },
  {
   "cell_type": "code",
   "execution_count": 24,
   "metadata": {
    "slideshow": {
     "slide_type": "fragment"
    }
   },
   "outputs": [],
   "source": [
    "!g++ -std=c++17 -O2 -Wall -Wextra -Werror -pedantic my_polar_converter.cc -c"
   ]
  },
  {
   "cell_type": "code",
   "execution_count": 25,
   "metadata": {
    "slideshow": {
     "slide_type": "fragment"
    }
   },
   "outputs": [
    {
     "name": "stdout",
     "output_type": "stream",
     "text": [
      "Writing my_program.cpp\n"
     ]
    }
   ],
   "source": [
    "%%file my_program.cpp\n",
    "\n",
    "#include \"my_polar_converter.hh\"\n",
    "#include <iostream>\n",
    "#include <string>\n",
    "#include <cassert>\n",
    "\n",
    "int main( int argc, char * argv[] ) {\n",
    "  assert(argc=3) ;\n",
    "  double x {std::stod(argv[1])} ;\n",
    "  double y {std::stod(argv[2])} ;\n",
    "  auto [ n, a ] = polar_coordinates(x,y) ;\n",
    "  std::cout << n << std::endl ;\n",
    "  std::cout << a << std::endl ;\n",
    "  return 0 ; // returns OK to the OS\n",
    "}"
   ]
  },
  {
   "cell_type": "code",
   "execution_count": 26,
   "metadata": {
    "slideshow": {
     "slide_type": "subslide"
    }
   },
   "outputs": [],
   "source": [
    "!g++ -std=c++17 -O2 -Wall -Wextra -Werror -pedantic my_program.cpp -c"
   ]
  },
  {
   "cell_type": "code",
   "execution_count": 27,
   "metadata": {
    "slideshow": {
     "slide_type": "fragment"
    }
   },
   "outputs": [],
   "source": [
    "!g++ my_polar_converter.o my_program.o -o my_program.exe"
   ]
  },
  {
   "cell_type": "code",
   "execution_count": 28,
   "metadata": {
    "slideshow": {
     "slide_type": "fragment"
    }
   },
   "outputs": [
    {
     "name": "stdout",
     "output_type": "stream",
     "text": [
      "1.41421\n",
      "0.785398\n"
     ]
    }
   ],
   "source": [
    "!./my_program.exe 1. 1."
   ]
  },
  {
   "cell_type": "markdown",
   "metadata": {
    "slideshow": {
     "slide_type": "slide"
    }
   },
   "source": [
    "## Split the example into multiple directories\n",
    "\n",
    "- The files you need to assemble may come from several projects, from several directories of your machine.\n",
    "- The preprocessor will need help to find the header files location, with `-I`."
   ]
  },
  {
   "cell_type": "code",
   "execution_count": 29,
   "metadata": {
    "slideshow": {
     "slide_type": "skip"
    }
   },
   "outputs": [],
   "source": [
    "!rm -rf my_*"
   ]
  },
  {
   "cell_type": "code",
   "execution_count": 30,
   "metadata": {
    "slideshow": {
     "slide_type": "skip"
    }
   },
   "outputs": [],
   "source": [
    "!mkdir -p my_dir1"
   ]
  },
  {
   "cell_type": "code",
   "execution_count": 31,
   "metadata": {
    "slideshow": {
     "slide_type": "skip"
    }
   },
   "outputs": [],
   "source": [
    "!mkdir -p my_dir2"
   ]
  },
  {
   "cell_type": "code",
   "execution_count": 32,
   "metadata": {
    "slideshow": {
     "slide_type": "subslide"
    }
   },
   "outputs": [
    {
     "name": "stdout",
     "output_type": "stream",
     "text": [
      "Writing my_dir1/my_polar_converter.hh\n"
     ]
    }
   ],
   "source": [
    "%%file my_dir1/my_polar_converter.hh\n",
    "\n",
    "#include <tuple>\n",
    "\n",
    "std::tuple<double,double> polar_coordinates( double x, double y ) ;"
   ]
  },
  {
   "cell_type": "code",
   "execution_count": 33,
   "metadata": {
    "slideshow": {
     "slide_type": "fragment"
    }
   },
   "outputs": [
    {
     "name": "stdout",
     "output_type": "stream",
     "text": [
      "Writing my_dir1/my_polar_converter.cc\n"
     ]
    }
   ],
   "source": [
    "%%file my_dir1/my_polar_converter.cc\n",
    "\n",
    "#include \"my_polar_converter.hh\"\n",
    "#include <cmath>\n",
    "\n",
    "std::tuple<double,double> polar_coordinates( double x, double y ) {\n",
    "  double norme = std::sqrt(x*x+y*y) ;\n",
    "  double angle = std::atan(y/x) ;\n",
    "  return { norme, angle } ;\n",
    "}"
   ]
  },
  {
   "cell_type": "code",
   "execution_count": 34,
   "metadata": {
    "slideshow": {
     "slide_type": "fragment"
    }
   },
   "outputs": [],
   "source": [
    "!cd my_dir1 && g++ -std=c++17 -O2 -Wall -Wextra -Werror -pedantic my_polar_converter.cc -c"
   ]
  },
  {
   "cell_type": "code",
   "execution_count": 35,
   "metadata": {
    "slideshow": {
     "slide_type": "subslide"
    }
   },
   "outputs": [
    {
     "name": "stdout",
     "output_type": "stream",
     "text": [
      "Writing my_dir2/my_program.cpp\n"
     ]
    }
   ],
   "source": [
    "%%file my_dir2/my_program.cpp\n",
    "\n",
    "#include \"my_polar_converter.hh\"\n",
    "#include <iostream>\n",
    "#include <string>\n",
    "#include <cassert>\n",
    "\n",
    "int main( int argc, char * argv[] ) {\n",
    "  assert(argc=3) ;\n",
    "  double x {std::stod(argv[1])} ;\n",
    "  double y {std::stod(argv[2])} ;\n",
    "  auto [ n, a ] = polar_coordinates(x,y) ;\n",
    "  std::cout << n << std::endl ;\n",
    "  std::cout << a << std::endl ;\n",
    "  return 0 ; // returns OK to the OS\n",
    "}"
   ]
  },
  {
   "cell_type": "code",
   "execution_count": 36,
   "metadata": {
    "slideshow": {
     "slide_type": "subslide"
    }
   },
   "outputs": [],
   "source": [
    "!cd my_dir2 && g++ -std=c++17 -O2 -Wall -Wextra -Werror -pedantic -I../my_dir1 my_program.cpp -c"
   ]
  },
  {
   "cell_type": "code",
   "execution_count": 37,
   "metadata": {
    "slideshow": {
     "slide_type": "fragment"
    }
   },
   "outputs": [],
   "source": [
    "!cd my_dir2 && g++ ../my_dir1/my_polar_converter.o my_program.o -o my_program.exe"
   ]
  },
  {
   "cell_type": "code",
   "execution_count": 38,
   "metadata": {
    "slideshow": {
     "slide_type": "fragment"
    }
   },
   "outputs": [
    {
     "name": "stdout",
     "output_type": "stream",
     "text": [
      "1.41421\n",
      "0.785398\n"
     ]
    }
   ],
   "source": [
    "!my_dir2/my_program.exe 1. 1."
   ]
  },
  {
   "cell_type": "markdown",
   "metadata": {
    "slideshow": {
     "slide_type": "slide"
    }
   },
   "source": [
    "## Libraries\n",
    "\n",
    "- A directory usually contains many body files, and we actually group them in some sort of archive file, so-called a *library*. You an either produce a **static library**, that any client executable will link within, or a **shared library**, that the client executable will reference, and recall at runtime.\n",
    "- The linker will need help to find the library files names and locations, with `-L` adn `-l`."
   ]
  },
  {
   "cell_type": "code",
   "execution_count": 39,
   "metadata": {
    "slideshow": {
     "slide_type": "subslide"
    }
   },
   "outputs": [],
   "source": [
    "!cd my_dir1 && ar rcs libmy_lib.a my_polar_converter.o"
   ]
  },
  {
   "cell_type": "code",
   "execution_count": 40,
   "metadata": {
    "slideshow": {
     "slide_type": "fragment"
    }
   },
   "outputs": [],
   "source": [
    "!cd my_dir2 && g++ -L../my_dir1 my_program.o -lmy_lib -o my_program.exe"
   ]
  },
  {
   "cell_type": "code",
   "execution_count": 41,
   "metadata": {
    "slideshow": {
     "slide_type": "fragment"
    }
   },
   "outputs": [
    {
     "name": "stdout",
     "output_type": "stream",
     "text": [
      "1.41421\n",
      "0.785398\n"
     ]
    }
   ],
   "source": [
    "!my_dir2/my_program.exe 1. 1."
   ]
  },
  {
   "cell_type": "markdown",
   "metadata": {
    "slideshow": {
     "slide_type": "slide"
    }
   },
   "source": [
    "# Quizz"
   ]
  },
  {
   "cell_type": "markdown",
   "metadata": {
    "slideshow": {
     "slide_type": "slide"
    }
   },
   "source": [
    "# Take away\n",
    "\n",
    "- Declare in header files, define in body files.\n",
    "- Header files are not compiled : they are set of declarations, to be included in body files.\n",
    "- Header files should have include guards.\n",
    "- Body files are compiled, then usually grouped into libraries.\n",
    "- The main file, containing `int main()`, will finally give birth to the executable.\n",
    "\n",
    "\n",
    "# Questions ?"
   ]
  },
  {
   "cell_type": "markdown",
   "metadata": {
    "slideshow": {
     "slide_type": "skip"
    }
   },
   "source": [
    "© *CNRS 2023*  \n",
    "*This document was created by David Chamont. It is available under the [License Creative Commons - Attribution - No commercial use - Shared under the conditions 4.0 International](http://creativecommons.org/licenses/by-nc-sa/4.0/)*"
   ]
  }
 ],
 "metadata": {
  "celltoolbar": "Diaporama",
  "kernelspec": {
   "display_name": "C++17",
   "language": "C++17",
   "name": "xcpp17"
  },
  "language_info": {
   "codemirror_mode": "text/x-c++src",
   "file_extension": ".cpp",
   "mimetype": "text/x-c++src",
   "name": "c++",
   "version": "17"
  }
 },
 "nbformat": 4,
 "nbformat_minor": 5
}
