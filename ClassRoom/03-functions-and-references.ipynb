{
 "cells": [
  {
   "cell_type": "markdown",
   "metadata": {
    "slideshow": {
     "slide_type": "slide"
    }
   },
   "source": [
    "# Functions & Co"
   ]
  },
  {
   "cell_type": "code",
   "execution_count": 6,
   "metadata": {
    "slideshow": {
     "slide_type": "subslide"
    }
   },
   "outputs": [],
   "source": [
    "#include <iostream>\n",
    "#include <string>\n",
    "#include <array>\n",
    "#include <vector>"
   ]
  },
  {
   "cell_type": "markdown",
   "metadata": {
    "slideshow": {
     "slide_type": "slide"
    }
   },
   "source": [
    "\n",
    "## My first functions\n",
    "\n",
    "- To be noticed : strong typing of the input parameters.\n",
    "- The new type `std::string`.\n"
    "- NO KEYWORK LIKE DEF TO DEFINE A FUNCTION BUT YOU START WITH THE TYPE OF WHAT THE FUNCTION WILL RETURN."
   ]
  },
  {
   "cell_type": "code",
   "execution_count": 7,
   "metadata": {
    "slideshow": {
     "slide_type": "subslide"
    }
   },
   "outputs": [],
   "source": [
    "std::string str( std::array<double,4> qv ) {\n",
    "  std::string result { \"\" } ;\n",
    "  std::string prefix { \"[ \" } ;  \n",
    "  for ( auto value : qv ) {\n",
    "      result += prefix + std::to_string(value);\n",
    "      prefix = \", \";\n",
    "  }\n",
    "  result += \" ]\" ;\n",
    "  return result;\n",
    "}"
   ]
  },
  {
   "cell_type": "code",
   "execution_count": 8,
   "metadata": {
    "slideshow": {
     "slide_type": "fragment"
    }
   },
   "outputs": [],
   "source": [
    "std::array<double,4> qv { 1., 2., 3., 4. } ;"
   ]
  },
  {
   "cell_type": "code",
   "execution_count": 9,
   "metadata": {
    "slideshow": {
     "slide_type": "fragment"
    }
   },
   "outputs": [
    {
     "name": "stdout",
     "output_type": "stream",
     "text": [
      "[ 1.000000, 2.000000, 3.000000, 4.000000 ]\n"
     ]
    }
   ],
   "source": [
    "std::cout<< str(qv) << std::endl ;"
   ]
  },
  {
   "cell_type": "code",
   "execution_count": 10,
   "metadata": {
    "slideshow": {
     "slide_type": "subslide"
    }
   },
   "outputs": [],
   "source": [
    "std::vector<int> v { 2, 4, 6, 8, 10 };"
   ]
  },
  {
   "cell_type": "code",
   "execution_count": 11,
   "metadata": {
    "slideshow": {
     "slide_type": "subslide"
    }
   },
   "outputs": [
    {
     "name": "stderr",
     "output_type": "stream",
     "text": [
      "\u001b[1minput_line_17:2:14: \u001b[0m\u001b[0;1;31merror: \u001b[0m\u001b[1mno matching function for call to 'str'\u001b[0m\n",
      " std::cout<< str(v) << std::endl ;\n",
      "\u001b[0;1;32m             ^~~\n",
      "\u001b[0m\u001b[1minput_line_13:1:13: \u001b[0m\u001b[0;1;30mnote: \u001b[0mcandidate function not viable: no known conversion from 'std::vector<int>' to 'std::array<double, 4>' for 1st argument\u001b[0m\n",
      "std::string str( std::array<double,4> qv ) {\n",
      "\u001b[0;1;32m            ^\n",
      "\u001b[0m"
     ]
    },
    {
     "ename": "Interpreter Error",
     "evalue": "",
     "output_type": "error",
     "traceback": [
      "Interpreter Error: "
     ]
    }
   ],
   "source": [
    "std::cout<< str(v) << std::endl ;"
   ]
  },
  {
   "cell_type": "markdown",
   "metadata": {
    "slideshow": {
     "slide_type": "subslide"
    }
   },
   "source": [
    "One can provide **another function with the same name**, but different input parameters."
   ]
  },
  {
   "cell_type": "code",
   "execution_count": 12,
   "metadata": {
    "slideshow": {
     "slide_type": "fragment"
    }
   },
   "outputs": [],
   "source": [
    "std::string str( std::vector<int> v ) {\n",
    "  std::string result { \"\" } ;\n",
    "  std::string prefix { \"[ \" } ;  \n",
    "  for ( auto value : v ) {\n",
    "      result += prefix + std::to_string(value);\n",
    "      prefix = \", \";\n",
    "  }\n",
    "  result += \" ]\" ;\n",
    "  return result;\n",
    "}"
   ]
  },
  {
   "cell_type": "code",
   "execution_count": 13,
   "metadata": {
    "slideshow": {
     "slide_type": "fragment"
    }
   },
   "outputs": [
    {
     "name": "stdout",
     "output_type": "stream",
     "text": [
      "[ 2, 4, 6, 8, 10 ]\n"
     ]
    }
   ],
   "source": [
    "std::cout<< str(v) << std::endl ;"
   ]
  },
  {
   "cell_type": "markdown",
   "metadata": {
    "slideshow": {
     "slide_type": "subslide"
    }
   },
   "source": [
    "When encountering a function call, the compiler will search for the functions with the correct name, and will select  the one whose input parameter types match better. That is called **overload resolution**."
   ]
  },
  {
   "cell_type": "markdown",
   "metadata": {
    "slideshow": {
     "slide_type": "slide"
    }
   },
   "source": [
    "\n",
    "## My first template\n",
    "\n",
    "- If two functions implementations are the same except some type, one can make this type a template parameter."
   ]
  },
  {
   "cell_type": "code",
   "execution_count": 14,
   "metadata": {
    "slideshow": {
     "slide_type": "subslide"
    }
   },
   "outputs": [],
   "source": [
    "template< typename Collection >\n",
    "std::string str2( Collection v ) {\n",
    "  std::string result { \"\" };\n",
    "  std::string prefix { \"[ \" };  \n",
    "  for ( auto value : v ) {\n",
    "      result += prefix + std::to_string(value);\n",
    "      prefix = \", \";\n",
    "  }\n",
    "  result += \" ]\";\n",
    "  return result;\n",
    "}"
   ]
  },
  {
   "cell_type": "code",
   "execution_count": 15,
   "metadata": {
    "slideshow": {
     "slide_type": "fragment"
    }
   },
   "outputs": [
    {
     "name": "stdout",
     "output_type": "stream",
     "text": [
      "[ 1.000000, 2.000000, 3.000000, 4.000000 ]\n",
      "[ 2, 4, 6, 8, 10 ]\n"
     ]
    }
   ],
   "source": [
    "std::cout<< str2(qv) << std::endl ;\n",
    "std::cout<< str2(v) << std::endl ;"
   ]
  },
  {
   "cell_type": "markdown",
   "metadata": {
    "slideshow": {
     "slide_type": "subslide"
    }
   },
   "source": [
    "Each time the function is called with a new kind of argument, the compiler try some sort of copy-paste of the implementation with this new type, and succeed or fail."
   ]
  },
  {
   "cell_type": "code",
   "execution_count": 16,
   "metadata": {
    "slideshow": {
     "slide_type": "fragment"
    }
   },
   "outputs": [],
   "source": [
    "std::vector<std::vector<int>> vv { { 1, 2 }, { 3, 4, 5 } };"
   ]
  },
  {
   "cell_type": "code",
   "execution_count": 17,
   "metadata": {
    "slideshow": {
     "slide_type": "fragment"
    }
   },
   "outputs": [
    {
     "name": "stderr",
     "output_type": "stream",
     "text": [
      "\u001b[1minput_line_20:6:26: \u001b[0m\u001b[0;1;31merror: \u001b[0m\u001b[1mno matching function for call to 'to_string'\u001b[0m\n",
      "      result += prefix + std::to_string(value);\n",
      "\u001b[0;1;32m                         ^~~~~~~~~~~~~~\n",
      "\u001b[0m\u001b[1minput_line_23:2:14: \u001b[0m\u001b[0;1;30mnote: \u001b[0min instantiation of function template specialization '__cling_N513::str2<std::vector<std::vector<int, std::allocator<int> >,\n",
      "      std::allocator<std::vector<int, std::allocator<int> > > > >' requested here\u001b[0m\n",
      " std::cout<< str2(vv) << std::endl;\n",
      "\u001b[0;1;32m             ^\n",
      "\u001b[0m\u001b[1m/opt/conda/bin/../lib/gcc/x86_64-conda-linux-gnu/7.5.0/../../../../x86_64-conda-linux-gnu/include/c++/7.5.0/bits/basic_string.h:6414:3: \u001b[0m\u001b[0;1;30mnote: \u001b[0mcandidate function not viable: no known conversion from 'std::vector<int, std::allocator<int> >' to 'int' for 1st argument\u001b[0m\n",
      "  to_string(int __val)\n",
      "\u001b[0;1;32m  ^\n",
      "\u001b[0m\u001b[1m/opt/conda/bin/../lib/gcc/x86_64-conda-linux-gnu/7.5.0/../../../../x86_64-conda-linux-gnu/include/c++/7.5.0/bits/basic_string.h:6419:3: \u001b[0m\u001b[0;1;30mnote: \u001b[0mcandidate function not viable: no known conversion from 'std::vector<int, std::allocator<int> >' to 'unsigned int' for 1st argument\u001b[0m\n",
      "  to_string(unsigned __val)\n",
      "\u001b[0;1;32m  ^\n",
      "\u001b[0m\u001b[1m/opt/conda/bin/../lib/gcc/x86_64-conda-linux-gnu/7.5.0/../../../../x86_64-conda-linux-gnu/include/c++/7.5.0/bits/basic_string.h:6425:3: \u001b[0m\u001b[0;1;30mnote: \u001b[0mcandidate function not viable: no known conversion from 'std::vector<int, std::allocator<int> >' to 'long' for 1st argument\u001b[0m\n",
      "  to_string(long __val)\n",
      "\u001b[0;1;32m  ^\n",
      "\u001b[0m\u001b[1m/opt/conda/bin/../lib/gcc/x86_64-conda-linux-gnu/7.5.0/../../../../x86_64-conda-linux-gnu/include/c++/7.5.0/bits/basic_string.h:6430:3: \u001b[0m\u001b[0;1;30mnote: \u001b[0mcandidate function not viable: no known conversion from 'std::vector<int, std::allocator<int> >' to 'unsigned long' for 1st argument\u001b[0m\n",
      "  to_string(unsigned long __val)\n",
      "\u001b[0;1;32m  ^\n",
      "\u001b[0m\u001b[1m/opt/conda/bin/../lib/gcc/x86_64-conda-linux-gnu/7.5.0/../../../../x86_64-conda-linux-gnu/include/c++/7.5.0/bits/basic_string.h:6436:3: \u001b[0m\u001b[0;1;30mnote: \u001b[0mcandidate function not viable: no known conversion from 'std::vector<int, std::allocator<int> >' to 'long long' for 1st argument\u001b[0m\n",
      "  to_string(long long __val)\n",
      "\u001b[0;1;32m  ^\n",
      "\u001b[0m\u001b[1m/opt/conda/bin/../lib/gcc/x86_64-conda-linux-gnu/7.5.0/../../../../x86_64-conda-linux-gnu/include/c++/7.5.0/bits/basic_string.h:6442:3: \u001b[0m\u001b[0;1;30mnote: \u001b[0mcandidate function not viable: no known conversion from 'std::vector<int, std::allocator<int> >' to 'unsigned long long' for 1st argument\u001b[0m\n",
      "  to_string(unsigned long long __val)\n",
      "\u001b[0;1;32m  ^\n",
      "\u001b[0m\u001b[1m/opt/conda/bin/../lib/gcc/x86_64-conda-linux-gnu/7.5.0/../../../../x86_64-conda-linux-gnu/include/c++/7.5.0/bits/basic_string.h:6448:3: \u001b[0m\u001b[0;1;30mnote: \u001b[0mcandidate function not viable: no known conversion from 'std::vector<int, std::allocator<int> >' to 'float' for 1st argument\u001b[0m\n",
      "  to_string(float __val)\n",
      "\u001b[0;1;32m  ^\n",
      "\u001b[0m\u001b[1m/opt/conda/bin/../lib/gcc/x86_64-conda-linux-gnu/7.5.0/../../../../x86_64-conda-linux-gnu/include/c++/7.5.0/bits/basic_string.h:6457:3: \u001b[0m\u001b[0;1;30mnote: \u001b[0mcandidate function not viable: no known conversion from 'std::vector<int, std::allocator<int> >' to 'double' for 1st argument\u001b[0m\n",
      "  to_string(double __val)\n",
      "\u001b[0;1;32m  ^\n",
      "\u001b[0m\u001b[1m/opt/conda/bin/../lib/gcc/x86_64-conda-linux-gnu/7.5.0/../../../../x86_64-conda-linux-gnu/include/c++/7.5.0/bits/basic_string.h:6466:3: \u001b[0m\u001b[0;1;30mnote: \u001b[0mcandidate function not viable: no known conversion from 'std::vector<int, std::allocator<int> >' to 'long double' for 1st argument\u001b[0m\n",
      "  to_string(long double __val)\n",
      "\u001b[0;1;32m  ^\n",
      "\u001b[0m"
     ]
    },
    {
     "ename": "Interpreter Error",
     "evalue": "",
     "output_type": "error",
     "traceback": [
      "Interpreter Error: "
     ]
    }
   ],
   "source": [
    "std::cout<< str2(vv) << std::endl;"
   ]
  },
  {
   "cell_type": "markdown",
   "metadata": {
    "slideshow": {
     "slide_type": "subslide"
    }
   },
   "source": [
    "*RESTART KERNEL*"
   ]
  },
  {
   "cell_type": "code",
   "execution_count": 1,
   "metadata": {
    "slideshow": {
     "slide_type": "skip"
    }
   },
   "outputs": [],
   "source": [
    "#include <iostream>\n",
    "#include <string>\n",
    "#include <array>\n",
    "#include <vector>"
   ]
  },
  {
   "cell_type": "code",
   "execution_count": 2,
   "metadata": {
    "slideshow": {
     "slide_type": "subslide"
    }
   },
   "outputs": [],
   "source": [
    "template< typename Collection >\n",
    "std::string str2( Collection v ) {\n",
    "  std::string result { \"\" };\n",
    "  std::string prefix { \"[ \" };  \n",
    "  for ( auto value : v ) {\n",
    "      result += prefix + std::to_string(value);\n",
    "      prefix = \", \";\n",
    "  }\n",
    "  result += \" ]\";\n",
    "  return result;\n",
    "}"
   ]
  },
  {
   "cell_type": "code",
   "execution_count": 3,
   "metadata": {
    "slideshow": {
     "slide_type": "fragment"
    }
   },
   "outputs": [],
   "source": [
    "using Vint = std::vector<int> ;\n",
    "using VVint = std::vector<Vint> ;"
   ]
  },
  {
   "cell_type": "code",
   "execution_count": 4,
   "metadata": {
    "slideshow": {
     "slide_type": "fragment"
    }
   },
   "outputs": [],
   "source": [
    "VVint vv { { 1, 2 }, { 3, 4, 5 } };"
   ]
  },
  {
   "cell_type": "markdown",
   "metadata": {
    "slideshow": {
     "slide_type": "subslide"
    }
   },
   "source": [
    "I can even overload template functions and ordinary ones."
   ]
  },
  {
   "cell_type": "code",
   "execution_count": 5,
   "metadata": {
    "slideshow": {
     "slide_type": "fragment"
    }
   },
   "outputs": [],
   "source": [
    "std::string str2( VVint vv ) {\n",
    "  std::string result { \"\" };\n",
    "  std::string prefix { \"[ \" };  \n",
    "  for ( auto v : vv ) {\n",
    "      result += prefix + str2(v);\n",
    "      prefix = \", \";\n",
    "  }\n",
    "  result += \" ]\";\n",
    "  return result;\n",
    "}"
   ]
  },
  {
   "cell_type": "code",
   "execution_count": 6,
   "metadata": {
    "slideshow": {
     "slide_type": "fragment"
    }
   },
   "outputs": [
    {
     "name": "stdout",
     "output_type": "stream",
     "text": [
      "[ [ 1, 2 ], [ 3, 4, 5 ] ]\n"
     ]
    }
   ],
   "source": [
    "std::cout<< str2(vv) << std::endl;"
   ]
  },
  {
   "cell_type": "markdown",
   "metadata": {
    "slideshow": {
     "slide_type": "subslide"
    }
   },
   "source": [
    "Another way may be to overload the case of scalar `int` and `double`: "
   ]
  },
  {
   "cell_type": "code",
   "execution_count": 5,
   "metadata": {
    "slideshow": {
     "slide_type": "fragment"
    }
   },
   "outputs": [],
   "source": [
    "std::string str3( int i ) { return std::to_string(i) ; }"
   ]
  },
  {
   "cell_type": "code",
   "execution_count": 6,
   "metadata": {
    "slideshow": {
     "slide_type": "fragment"
    }
   },
   "outputs": [],
   "source": [
    "std::string str3( double d ) { return std::to_string(d) ; }"
   ]
  },
  {
   "cell_type": "code",
   "execution_count": 9,
   "metadata": {
    "slideshow": {
     "slide_type": "fragment"
    }
   },
   "outputs": [],
   "source": [
    "template< typename Collection >\n",
    "std::string str3( Collection coll ) {\n",
    "  std::string result { \"\" }, prefix { \"[ \" };  \n",
    "  for ( auto elem : coll ) {\n",
    "      result += prefix + str3(elem);\n",
    "      prefix = \", \";\n",
    "  }\n",
    "  result += \" ]\";\n",
    "  return result;\n",
    "}"
   ]
  },
  {
   "cell_type": "code",
   "execution_count": 10,
   "metadata": {
    "slideshow": {
     "slide_type": "fragment"
    }
   },
   "outputs": [
    {
     "name": "stdout",
     "output_type": "stream",
     "text": [
      "[ [ 1, 2 ], [ 3, 4, 5 ] ]\n"
     ]
    }
   ],
   "source": [
    "VVint vv { { 1, 2 }, { 3, 4, 5 } };\n",
    "std::cout<< str3(vv) << std::endl;"
   ]
  },
  {
   "cell_type": "markdown",
   "metadata": {
    "slideshow": {
     "slide_type": "subslide"
    }
   },
   "source": [
    "The template function `str3()` is *instanciated* twice : once with `Vint` (alias `std::vector<int>`), once with `VVint` (alias `std::vector<std::vector<int>>`). "
   ]
  },
  {
   "cell_type": "markdown",
   "metadata": {
    "slideshow": {
     "slide_type": "slide"
    }
   },
   "source": [
    "## My first references and constants\n",
    "\n",
    "- The input parameter of the template `str3()`, as any variable, receive a copy by value of the argument, which can be huge of its type is `Vint` or even `VVint`.\n",
    "- So to avoid the copy and speedup the function call, one may transform the type into a reference : the parameter will then be just a new name for the original object.\n",
    "- To be noticed : the two `&`."
   ]
  },
  {
   "cell_type": "code",
   "execution_count": 11,
   "metadata": {
    "slideshow": {
     "slide_type": "subslide"
    }
   },
   "outputs": [],
   "source": [
    "template< typename Collection >\n",
    "std::string str3( Collection & vv ) {\n",
    "  std::string result { \"\" }, prefix { \"[ \" };  \n",
    "  for ( auto & v : vv ) {\n",
    "      result += prefix + str3(v);\n",
    "      prefix = \", \";\n",
    "  }\n",
    "  return { result + \" ]\" };\n",
    "}"
   ]
  },
  {
   "cell_type": "code",
   "execution_count": 12,
   "metadata": {
    "slideshow": {
     "slide_type": "fragment"
    }
   },
   "outputs": [
    {
     "name": "stdout",
     "output_type": "stream",
     "text": [
      "[ [ 1, 2 ], [ 3, 4, 5 ] ]\n"
     ]
    }
   ],
   "source": [
    "std::cout<< str3(vv) << std::endl;"
   ]
  },
  {
   "cell_type": "markdown",
   "metadata": {
    "slideshow": {
     "slide_type": "subslide"
    }
   },
   "source": [
    "Yet, if you want to be sure that the function will never change the value of the argument (i.e. if just want to save the copy), then you can also add `const` keyword: "
   ]
  },
  {
   "cell_type": "code",
   "execution_count": 7,
   "metadata": {
    "slideshow": {
     "slide_type": "fragment"
    }
   },
   "outputs": [],
   "source": [
    "template< typename Collection >\n",
    "std::string str3( Collection const & vv ) {\n",
    "  std::string result { \"\" }, prefix { \"[ \" };  \n",
    "  for ( auto const & v : vv ) {\n",
    "      result += prefix + str3(v);\n",
    "      prefix = \", \";\n",
    "  }\n",
    "  return { result + \" ]\" };\n",
    "}"
   ]
  },
  {
   "cell_type": "code",
   "execution_count": 8,
   "metadata": {
    "slideshow": {
     "slide_type": "fragment"
    }
   },
   "outputs": [
    {
     "name": "stdout",
     "output_type": "stream",
     "text": [
      "[ [ 1, 2 ], [ 3, 4, 5 ] ]\n"
     ]
    }
   ],
   "source": [
    "std::cout<< str3(vv) << std::endl;"
   ]
  },
  {
   "cell_type": "markdown",
   "metadata": {
    "slideshow": {
     "slide_type": "slide"
    }
   },
   "source": [
    "## My First Tuple\n",
    "\n",
    "When you need to return several results from a function, `std::tuple` can help."
   ]
  },
  {
   "cell_type": "code",
   "execution_count": 1,
   "metadata": {
    "slideshow": {
     "slide_type": "subslide"
    }
   },
   "outputs": [],
   "source": [
    "#include <iostream>\n",
    "#include <tuple>\n",
    "#include <cmath>"
   ]
  },
  {
   "cell_type": "code",
   "execution_count": 2,
   "metadata": {
    "slideshow": {
     "slide_type": "fragment"
    }
   },
   "outputs": [],
   "source": [
    "std::tuple<double,double> polar_coordinates( double x, double y ) {\n",
    "    double norme = std::sqrt(x*x+y*y) ;\n",
    "    double angle = std::atan(y/x) ;\n",
    "    return { norme, angle } ;\n",
    "}"
   ]
  },
  {
   "cell_type": "code",
   "execution_count": 3,
   "metadata": {
    "slideshow": {
     "slide_type": "fragment"
    }
   },
   "outputs": [
    {
     "name": "stdout",
     "output_type": "stream",
     "text": [
      "1.41421\n",
      "0.785398\n"
     ]
    }
   ],
   "source": [
    "auto result = polar_coordinates(1.,1.) ;\n",
    "std::cout << std::get<0>(result) << std::endl ;\n",
    "std::cout << std::get<1>(result) << std::endl ;"
   ]
  },
  {
   "cell_type": "markdown",
   "metadata": {
    "slideshow": {
     "slide_type": "subslide"
    }
   },
   "source": [
    "One can directly split the tuple into variables, with the so-called *structured bindings* syntax."
   ]
  },
  {
   "cell_type": "code",
   "execution_count": 4,
   "metadata": {
    "slideshow": {
     "slide_type": "fragment"
    }
   },
   "outputs": [
    {
     "name": "stdout",
     "output_type": "stream",
     "text": [
      "1.41421\n",
      "0.785398\n"
     ]
    }
   ],
   "source": [
    "auto [ n, a ] = polar_coordinates(1.,1.) ;\n",
    "std::cout << n << std::endl ;\n",
    "std::cout << a << std::endl ;"
   ]
  },
  {
   "cell_type": "markdown",
   "metadata": {
    "slideshow": {
     "slide_type": "slide"
    }
   },
   "source": [
    "# Quizz"
   ]
  },
  {
   "cell_type": "markdown",
   "metadata": {
    "slideshow": {
     "slide_type": "subslide"
    }
   },
   "source": [
    "What lacks so that the values are not 0 ?"
   ]
  },
  {
   "cell_type": "code",
   "execution_count": 3,
   "metadata": {
    "slideshow": {
     "slide_type": "skip"
    }
   },
   "outputs": [],
   "source": [
    "#include <iostream>\n",
    "#include <array>\n",
    "#include <random>"
   ]
  },
  {
   "cell_type": "code",
   "execution_count": 5,
   "metadata": {
    "slideshow": {
     "slide_type": "fragment"
    }
   },
   "outputs": [
    {
     "name": "stdout",
     "output_type": "stream",
     "text": [
      "0 0 0 0 0 \n"
     ]
    }
   ],
   "source": [
    "std::vector<int> values(5) ;\n",
    "\n",
    "std::default_random_engine engine ;\n",
    "std::uniform_int_distribution distrib{0,9} ;\n",
    "\n",
    "for ( auto value : values ) {\n",
    "    value = distrib(engine) ;\n",
    "}\n",
    "\n",
    "for ( auto value : values ) {\n",
    "    std::cout << value << \" \" ;\n",
    "}\n",
    "\n",
    "std::cout << std::endl;"
   ]
  },
  {
   "cell_type": "markdown",
   "metadata": {
    "slideshow": {
     "slide_type": "slide"
    }
   },
   "source": [
    "# Take away\n",
    "\n",
    "- You can have many functions with the same name, but different input parameters.\n",
    "- For every call, the compiler will select the right one for you, most of the time...\n",
    "- You can pass argument by value, by reference, by const reference.\n",
    "- You can return several results as a tuple.\n",
    "\n",
    "\n",
    "# Questions ?"
   ]
  },
  {
   "cell_type": "markdown",
   "metadata": {
    "slideshow": {
     "slide_type": "skip"
    }
   },
   "source": [
    "© *CNRS 2023*  \n",
    "*This document was created by David Chamont. It is available under the [License Creative Commons - Attribution - No commercial use - Shared under the conditions 4.0 International](http://creativecommons.org/licenses/by-nc-sa/4.0/)*"
   ]
  }
 ],
 "metadata": {
  "celltoolbar": "Diaporama",
  "kernelspec": {
   "display_name": "C++17",
   "language": "C++17",
   "name": "xcpp17"
  },
  "language_info": {
   "codemirror_mode": "text/x-c++src",
   "file_extension": ".cpp",
   "mimetype": "text/x-c++src",
   "name": "c++",
   "version": "17"
  }
 },
 "nbformat": 4,
 "nbformat_minor": 5
}
