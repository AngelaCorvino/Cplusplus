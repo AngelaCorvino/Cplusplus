{
 "cells": [
  {
   "cell_type": "code",
   "execution_count": 55,
   "metadata": {
    "slideshow": {
     "slide_type": "skip"
    }
   },
   "outputs": [],
   "source": [
    "!rm -rf src build* my_*"
   ]
  },
  {
   "cell_type": "code",
   "execution_count": 56,
   "metadata": {
    "slideshow": {
     "slide_type": "skip"
    }
   },
   "outputs": [],
   "source": [
    "!mkdir -p src"
   ]
  },
  {
   "cell_type": "markdown",
   "metadata": {
    "slideshow": {
     "slide_type": "slide"
    }
   },
   "source": [
    "# Build tools\n",
    "\n",
    "In real applications, with dozens/hundreds/thousands files, it turns tricky to recompile everything in the right order, with the right options. Also, depending on what file has been modified, not all the units needs to be recompiled, and the developer alone can hardly trace which ones. This is where the code construction tools come into play. The simple legacy one is `GNU make`. The popular current one is `CMake`."
   ]
  },
  {
   "cell_type": "code",
   "execution_count": 57,
   "metadata": {
    "slideshow": {
     "slide_type": "skip"
    }
   },
   "outputs": [
    {
     "name": "stdout",
     "output_type": "stream",
     "text": [
      "Writing src/my_polar_converter.hh\n"
     ]
    }
   ],
   "source": [
    "%%file src/my_polar_converter.hh\n",
    "\n",
    "#include <tuple>\n",
    "\n",
    "std::tuple<double,double> polar_coordinates( double x, double y ) ;"
   ]
  },
  {
   "cell_type": "code",
   "execution_count": 58,
   "metadata": {
    "slideshow": {
     "slide_type": "skip"
    }
   },
   "outputs": [
    {
     "name": "stdout",
     "output_type": "stream",
     "text": [
      "Writing src/my_polar_converter.cc\n"
     ]
    }
   ],
   "source": [
    "%%file src/my_polar_converter.cc\n",
    "\n",
    "#include \"my_polar_converter.hh\"\n",
    "#include <cmath>\n",
    "\n",
    "std::tuple<double,double> polar_coordinates( double x, double y ) {\n",
    "  double norme = std::sqrt(x*x+y*y) ;\n",
    "  double angle = std::atan(y/x) ;\n",
    "  return { norme, angle } ;\n",
    "}"
   ]
  },
  {
   "cell_type": "code",
   "execution_count": 59,
   "metadata": {
    "slideshow": {
     "slide_type": "skip"
    }
   },
   "outputs": [
    {
     "name": "stdout",
     "output_type": "stream",
     "text": [
      "Writing src/my_program.cpp\n"
     ]
    }
   ],
   "source": [
    "%%file src/my_program.cpp\n",
    "\n",
    "#include \"my_polar_converter.hh\"\n",
    "#include <iostream>\n",
    "#include <string>\n",
    "#include <cassert>\n",
    "\n",
    "int main( int argc, char * argv[] ) {\n",
    "  assert(argc=3) ;\n",
    "  double x {std::stod(argv[1])} ;\n",
    "  double y {std::stod(argv[2])} ;\n",
    "  auto [ n, a ] = polar_coordinates(x,y) ;\n",
    "  std::cout << n << std::endl ;\n",
    "  std::cout << a << std::endl ;\n",
    "  return 0 ; // returns OK to the OS\n",
    "}"
   ]
  },
  {
   "cell_type": "markdown",
   "metadata": {
    "slideshow": {
     "slide_type": "slide"
    }
   },
   "source": [
    "## GNU make\n",
    "\n",
    "- GNU make is low level, and designed for Unix machines.\n",
    "- Its command is `gmake` or `make`, and it is configured by a file `GNUmakefile`.\n",
    "- A very simple example is given below."
   ]
  },
  {
   "cell_type": "code",
   "execution_count": 60,
   "metadata": {
    "slideshow": {
     "slide_type": "skip"
    }
   },
   "outputs": [],
   "source": [
    "!mkdir -p build.gmake"
   ]
  },
  {
   "cell_type": "code",
   "execution_count": 61,
   "metadata": {
    "slideshow": {
     "slide_type": "subslide"
    }
   },
   "outputs": [
    {
     "name": "stdout",
     "output_type": "stream",
     "text": [
      "Writing build.gmake/GNUmakefile\n"
     ]
    }
   ],
   "source": [
    "%%file build.gmake/GNUmakefile\n",
    "\n",
    "SHELL = /bin/bash\n",
    "CXX = g++\n",
    "CXXFLAGS = -std=c++17 -O2 -Wall -Wextra -Werror\n",
    "\n",
    "all: my_program.exe\n",
    "\n",
    "clean:\n",
    "\trm -f *.exe *.o\n",
    "\n",
    "my_program.exe: my_program.o my_polar_converter.o\n",
    "\t$(CXX) $^ -o $@\n",
    "\n",
    "%.o : ../src/%.cc\n",
    "\t$(CXX) $(CXXFLAGS) $< -c\n",
    "\n",
    "%.o : ../src/%.cpp\n",
    "\t$(CXX) $(CXXFLAGS) $< -c\n",
    "\n",
    ".PRECIOUS: %.o"
   ]
  },
  {
   "cell_type": "code",
   "execution_count": 62,
   "metadata": {
    "slideshow": {
     "slide_type": "subslide"
    }
   },
   "outputs": [
    {
     "name": "stdout",
     "output_type": "stream",
     "text": [
      "g++ -std=c++17 -O2 -Wall -Wextra -Werror ../src/my_program.cpp -c\n",
      "g++ -std=c++17 -O2 -Wall -Wextra -Werror ../src/my_polar_converter.cc -c\n",
      "g++ my_program.o my_polar_converter.o -o my_program.exe\n"
     ]
    }
   ],
   "source": [
    "!cd build.gmake && make"
   ]
  },
  {
   "cell_type": "code",
   "execution_count": 63,
   "metadata": {
    "slideshow": {
     "slide_type": "fragment"
    }
   },
   "outputs": [
    {
     "name": "stdout",
     "output_type": "stream",
     "text": [
      "1.41421\n",
      "0.785398\n"
     ]
    }
   ],
   "source": [
    "!build.gmake/my_program.exe 1. 1."
   ]
  },
  {
   "cell_type": "markdown",
   "metadata": {
    "slideshow": {
     "slide_type": "slide"
    }
   },
   "source": [
    "## CMake\n",
    "\n",
    "- CMake is higher level.\n",
    "- CMake is popular because it is working for Linux/MacOS/Windows.\n",
    "- On Linux, CMake delegates the work to `make` (by default).\n",
    "- CMake command is `cmake`, it is configured by the file `CMakeLists.txt`.\n",
    "- A very simple example is given below."
   ]
  },
  {
   "cell_type": "code",
   "execution_count": 64,
   "metadata": {
    "slideshow": {
     "slide_type": "skip"
    }
   },
   "outputs": [],
   "source": [
    "!mkdir -p build.cmake"
   ]
  },
  {
   "cell_type": "code",
   "execution_count": 65,
   "metadata": {
    "slideshow": {
     "slide_type": "subslide"
    }
   },
   "outputs": [
    {
     "name": "stdout",
     "output_type": "stream",
     "text": [
      "Writing build.cmake/CMakeLists.txt\n"
     ]
    }
   ],
   "source": [
    "%%file build.cmake/CMakeLists.txt\n",
    "\n",
    "cmake_minimum_required(VERSION 3.18)\n",
    "project(my_project CXX)\n",
    "    \n",
    "file(GLOB HDRS ../src/*.hh)\n",
    "file(GLOB SRCS ../src/*.cc)\n",
    "file(GLOB PRGS ../src/*.cpp)\n",
    "\n",
    "add_executable(my_program.exe ${SRCS} ${HDRS} ${PRGS})\n",
    "target_compile_features(my_program.exe PUBLIC cxx_std_17)"
   ]
  },
  {
   "cell_type": "code",
   "execution_count": 66,
   "metadata": {
    "slideshow": {
     "slide_type": "subslide"
    }
   },
   "outputs": [
    {
     "name": "stdout",
     "output_type": "stream",
     "text": [
      "-- The CXX compiler identification is GNU 9.3.0\n",
      "-- Detecting CXX compiler ABI info\n",
      "-- Detecting CXX compiler ABI info - done\n",
      "-- Check for working CXX compiler: /usr/bin/c++ - skipped\n",
      "-- Detecting CXX compile features\n",
      "-- Detecting CXX compile features - done\n",
      "-- Configuring done\n",
      "-- Generating done\n",
      "-- Build files have been written to: /work/ClassRoom/build.cmake\n"
     ]
    }
   ],
   "source": [
    "!cd build.cmake && cmake ."
   ]
  },
  {
   "cell_type": "code",
   "execution_count": 67,
   "metadata": {
    "slideshow": {
     "slide_type": "fragment"
    }
   },
   "outputs": [
    {
     "name": "stdout",
     "output_type": "stream",
     "text": [
      "Scanning dependencies of target my_program.exe\n",
      "[ 33%] Building CXX object CMakeFiles/my_program.exe.dir/work/ClassRoom/src/my_polar_converter.cc.o\n",
      "[ 66%] Building CXX object CMakeFiles/my_program.exe.dir/work/ClassRoom/src/my_program.cpp.o\n",
      "[100%] Linking CXX executable my_program.exe\n",
      "[100%] Built target my_program.exe\n"
     ]
    }
   ],
   "source": [
    "!cd build.cmake && cmake --build ."
   ]
  },
  {
   "cell_type": "code",
   "execution_count": 68,
   "metadata": {
    "slideshow": {
     "slide_type": "fragment"
    }
   },
   "outputs": [
    {
     "name": "stdout",
     "output_type": "stream",
     "text": [
      "1.41421\n",
      "0.785398\n"
     ]
    }
   ],
   "source": [
    "!build.cmake/my_program.exe 1. 1."
   ]
  },
  {
   "cell_type": "markdown",
   "metadata": {
    "slideshow": {
     "slide_type": "slide"
    }
   },
   "source": [
    "# Quizz"
   ]
  },
  {
   "cell_type": "markdown",
   "metadata": {
    "slideshow": {
     "slide_type": "slide"
    }
   },
   "source": [
    "# Take away\n",
    "\n",
    "- Compiling a C++ program takes a long time, that's the price to pay for a later quick execution.\n",
    "- A build tool can help to:\n",
    "  - find the external dependencies,\n",
    "  - set the relevant compilation options,\n",
    "  - (re)compile only what is needed,\n",
    "  - improve portability.\n",
    "  \n",
    "\n",
    "# Questions ?"
   ]
  },
  {
   "cell_type": "markdown",
   "metadata": {
    "slideshow": {
     "slide_type": "skip"
    }
   },
   "source": [
    "© *CNRS 2023*  \n",
    "*This document was created by David Chamont. It is available under the [License Creative Commons - Attribution - No commercial use - Shared under the conditions 4.0 International](http://creativecommons.org/licenses/by-nc-sa/4.0/)*"
   ]
  }
 ],
 "metadata": {
  "celltoolbar": "Diaporama",
  "kernelspec": {
   "display_name": "C++17",
   "language": "C++17",
   "name": "xcpp17"
  },
  "language_info": {
   "codemirror_mode": "text/x-c++src",
   "file_extension": ".cpp",
   "mimetype": "text/x-c++src",
   "name": "c++",
   "version": "17"
  }
 },
 "nbformat": 4,
 "nbformat_minor": 5
}
